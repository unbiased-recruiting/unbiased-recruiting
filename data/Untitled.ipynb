{
 "cells": [
  {
   "cell_type": "code",
   "execution_count": 1,
   "metadata": {},
   "outputs": [
    {
     "name": "stderr",
     "output_type": "stream",
     "text": [
      "[nltk_data] Downloading package stopwords to\n",
      "[nltk_data]     /Users/marcthanvancon/nltk_data...\n",
      "[nltk_data]   Package stopwords is already up-to-date!\n",
      "[nltk_data] Downloading package punkt to\n",
      "[nltk_data]     /Users/marcthanvancon/nltk_data...\n",
      "[nltk_data]   Package punkt is already up-to-date!\n",
      "Using TensorFlow backend.\n"
     ]
    }
   ],
   "source": [
    "import pandas as pd\n",
    "import os\n",
    "import numpy as np\n",
    "import numpy as np\n",
    "import string\n",
    "import nltk\n",
    "\n",
    "nltk.download('stopwords')\n",
    "nltk.download('punkt')\n",
    "\n",
    "from nltk.corpus import stopwords \n",
    "from nltk.tokenize import word_tokenize \n",
    "from keras.preprocessing.text import Tokenizer\n",
    "from keras.preprocessing.sequence import pad_sequences\n",
    "from sklearn.model_selection import train_test_split"
   ]
  },
  {
   "cell_type": "code",
   "execution_count": 2,
   "metadata": {},
   "outputs": [],
   "source": [
    "data_dir = '../data'\n",
    "df = pd.read_csv(os.path.join(data_dir,\"data_with_gender_rec.csv\"))\n",
    "df = df[['MATRICULEINT', 'TXT', 'GENRE']]\n",
    "df.loc[:,'GENRE'] = pd.to_numeric(df.loc[:,'GENRE'], errors = 'coerce', downcast = 'integer')\n",
    "df.dropna(inplace = True)\n",
    "df = df[df['GENRE'].isin([1, 2])]"
   ]
  },
  {
   "cell_type": "code",
   "execution_count": 3,
   "metadata": {},
   "outputs": [],
   "source": [
    "\"\"\"##Stop words removal\"\"\"\n",
    "filters='!\"#$%&()*+,-./:;<=>?@[\\\\]^_`{|}~\\t\\n'\n",
    "\n",
    "#Import stop words\n",
    "language = 'french'\n",
    "stop_words = set(stopwords.words(language)) \n",
    "punctuation = string.punctuation + filters + '\\n' #remember to remove utf words\n",
    "\n",
    "#Row by row tokenization\n",
    "def tokenization_and_stop_words_out(text):\n",
    "  x = word_tokenize(text)\n",
    "  y = [w for w in x if not w in stop_words and not w in punctuation]\n",
    "  return y\n",
    "\n",
    "df.loc[:,'TXT'] = df['TXT'].apply(tokenization_and_stop_words_out)\n",
    "\n",
    "\"\"\"## Encoding labels\n",
    "\n",
    "Here we use to one hot encoding for encoding genders\n",
    "\"\"\"\n",
    "df = pd.get_dummies(df, columns = ['GENRE'])"
   ]
  },
  {
   "cell_type": "code",
   "execution_count": 4,
   "metadata": {},
   "outputs": [],
   "source": [
    "\"\"\"## Splitting into train and test df\"\"\"\n",
    "\n",
    "#Initial split into train and test dataframes\n",
    "df_train_init, df_test = train_test_split(df, test_size = 0.25)\n",
    "\n",
    "#Second split of train dataframe into train and val dataframes\n",
    "df_train, df_val = train_test_split(df_train_init, test_size = 0.25)\n",
    "\n",
    "\"\"\"## Tokenization\"\"\"\n",
    "#Tokenizer training \n",
    "num_words = 10000\n",
    "len_max_seq = 840\n",
    "\n",
    "train_values = df_train.loc[:,'TXT'].tolist()\n",
    "\n",
    "tokenizer = Tokenizer(num_words = num_words, filters= filters,lower =True)\n",
    "tokenizer.fit_on_texts(df_train['TXT'].tolist())"
   ]
  },
  {
   "cell_type": "code",
   "execution_count": 5,
   "metadata": {},
   "outputs": [
    {
     "name": "stderr",
     "output_type": "stream",
     "text": [
      "/Users/marcthanvancon/anaconda3/envs/tensorflow_env/lib/python3.6/site-packages/pandas/core/indexing.py:543: SettingWithCopyWarning: \n",
      "A value is trying to be set on a copy of a slice from a DataFrame.\n",
      "Try using .loc[row_indexer,col_indexer] = value instead\n",
      "\n",
      "See the caveats in the documentation: http://pandas.pydata.org/pandas-docs/stable/indexing.html#indexing-view-versus-copy\n",
      "  self.obj[item] = s\n"
     ]
    },
    {
     "data": {
      "text/html": [
       "<div>\n",
       "<style scoped>\n",
       "    .dataframe tbody tr th:only-of-type {\n",
       "        vertical-align: middle;\n",
       "    }\n",
       "\n",
       "    .dataframe tbody tr th {\n",
       "        vertical-align: top;\n",
       "    }\n",
       "\n",
       "    .dataframe thead th {\n",
       "        text-align: right;\n",
       "    }\n",
       "</style>\n",
       "<table border=\"1\" class=\"dataframe\">\n",
       "  <thead>\n",
       "    <tr style=\"text-align: right;\">\n",
       "      <th></th>\n",
       "      <th>MATRICULEINT</th>\n",
       "      <th>TXT</th>\n",
       "      <th>GENRE_1.0</th>\n",
       "      <th>GENRE_2.0</th>\n",
       "    </tr>\n",
       "  </thead>\n",
       "  <tbody>\n",
       "    <tr>\n",
       "      <th>2697</th>\n",
       "      <td>001-KT-1855708</td>\n",
       "      <td>[351, 221, 74, 5946, 1, 1809, 73, 1573, 7891, ...</td>\n",
       "      <td>0</td>\n",
       "      <td>1</td>\n",
       "    </tr>\n",
       "    <tr>\n",
       "      <th>1442</th>\n",
       "      <td>001-RD-1829703</td>\n",
       "      <td>[217, 1, 1, 1, 1, 5053, 1, 18, 25, 1, 1, 1, 17...</td>\n",
       "      <td>1</td>\n",
       "      <td>0</td>\n",
       "    </tr>\n",
       "    <tr>\n",
       "      <th>5714</th>\n",
       "      <td>001-QO-1826762</td>\n",
       "      <td>[1, 4151, 1, 328, 26, 1, 394, 16, 5210, 1, 544...</td>\n",
       "      <td>0</td>\n",
       "      <td>1</td>\n",
       "    </tr>\n",
       "    <tr>\n",
       "      <th>9197</th>\n",
       "      <td>001-VAL-1814546</td>\n",
       "      <td>[1170, 1, 1, 633, 25, 1, 60, 1, 60, 1, 1270, 1...</td>\n",
       "      <td>1</td>\n",
       "      <td>0</td>\n",
       "    </tr>\n",
       "    <tr>\n",
       "      <th>5347</th>\n",
       "      <td>001-SNS-0006519</td>\n",
       "      <td>[7010, 1, 918, 26, 1, 339, 33, 7915, 4119, 1, ...</td>\n",
       "      <td>1</td>\n",
       "      <td>0</td>\n",
       "    </tr>\n",
       "  </tbody>\n",
       "</table>\n",
       "</div>"
      ],
      "text/plain": [
       "         MATRICULEINT                                                TXT  \\\n",
       "2697   001-KT-1855708  [351, 221, 74, 5946, 1, 1809, 73, 1573, 7891, ...   \n",
       "1442   001-RD-1829703  [217, 1, 1, 1, 1, 5053, 1, 18, 25, 1, 1, 1, 17...   \n",
       "5714   001-QO-1826762  [1, 4151, 1, 328, 26, 1, 394, 16, 5210, 1, 544...   \n",
       "9197  001-VAL-1814546  [1170, 1, 1, 633, 25, 1, 60, 1, 60, 1, 1270, 1...   \n",
       "5347  001-SNS-0006519  [7010, 1, 918, 26, 1, 339, 33, 7915, 4119, 1, ...   \n",
       "\n",
       "      GENRE_1.0  GENRE_2.0  \n",
       "2697          0          1  \n",
       "1442          1          0  \n",
       "5714          0          1  \n",
       "9197          1          0  \n",
       "5347          1          0  "
      ]
     },
     "execution_count": 5,
     "metadata": {},
     "output_type": "execute_result"
    }
   ],
   "source": [
    "#Text to sequences\n",
    "df_train.loc[:,'TXT'] = tokenizer.texts_to_sequences(df_train.loc[:,'TXT'])\n",
    "df_val.loc[:,'TXT'] = tokenizer.texts_to_sequences(df_val.loc[:,'TXT'])\n",
    "df_test.loc[:,'TXT'] = tokenizer.texts_to_sequences(df_test.loc[:,'TXT'])\n",
    "df_val.head()"
   ]
  },
  {
   "cell_type": "code",
   "execution_count": 7,
   "metadata": {},
   "outputs": [
    {
     "name": "stdout",
     "output_type": "stream",
     "text": [
      "(2117, 4)\n",
      "(6349, 4)\n",
      "(2823, 4)\n"
     ]
    }
   ],
   "source": [
    "print(df_val.shape)\n",
    "print(df_train.shape)\n",
    "print(df_test.shape)"
   ]
  },
  {
   "cell_type": "code",
   "execution_count": null,
   "metadata": {},
   "outputs": [],
   "source": [
    "test = df_train.copy(deep = True)"
   ]
  },
  {
   "cell_type": "code",
   "execution_count": null,
   "metadata": {},
   "outputs": [],
   "source": [
    "df.apply(lambda x: len(x['TXT']), axis = 1).max()"
   ]
  },
  {
   "cell_type": "code",
   "execution_count": null,
   "metadata": {},
   "outputs": [],
   "source": [
    "#pad_sequences(df_train.loc[:,'TXT'].tolist(), len_max_seq)\n",
    "test['TXT'] = pad_sequences(df_train.loc[:,'TXT'], len_max_seq).tolist()\n",
    "filter = test['length'] == test['length'].max()\n",
    "test[filter]"
   ]
  },
  {
   "cell_type": "code",
   "execution_count": 8,
   "metadata": {},
   "outputs": [
    {
     "name": "stderr",
     "output_type": "stream",
     "text": [
      "/Users/marcthanvancon/anaconda3/envs/tensorflow_env/lib/python3.6/site-packages/ipykernel_launcher.py:3: SettingWithCopyWarning: \n",
      "A value is trying to be set on a copy of a slice from a DataFrame.\n",
      "Try using .loc[row_indexer,col_indexer] = value instead\n",
      "\n",
      "See the caveats in the documentation: http://pandas.pydata.org/pandas-docs/stable/indexing.html#indexing-view-versus-copy\n",
      "  This is separate from the ipykernel package so we can avoid doing imports until\n",
      "/Users/marcthanvancon/anaconda3/envs/tensorflow_env/lib/python3.6/site-packages/ipykernel_launcher.py:4: SettingWithCopyWarning: \n",
      "A value is trying to be set on a copy of a slice from a DataFrame.\n",
      "Try using .loc[row_indexer,col_indexer] = value instead\n",
      "\n",
      "See the caveats in the documentation: http://pandas.pydata.org/pandas-docs/stable/indexing.html#indexing-view-versus-copy\n",
      "  after removing the cwd from sys.path.\n",
      "/Users/marcthanvancon/anaconda3/envs/tensorflow_env/lib/python3.6/site-packages/ipykernel_launcher.py:5: SettingWithCopyWarning: \n",
      "A value is trying to be set on a copy of a slice from a DataFrame.\n",
      "Try using .loc[row_indexer,col_indexer] = value instead\n",
      "\n",
      "See the caveats in the documentation: http://pandas.pydata.org/pandas-docs/stable/indexing.html#indexing-view-versus-copy\n",
      "  \"\"\"\n"
     ]
    },
    {
     "data": {
      "text/plain": [
       "'## Export'"
      ]
     },
     "execution_count": 8,
     "metadata": {},
     "output_type": "execute_result"
    }
   ],
   "source": [
    "#Padding sequences\n",
    "#df_train['TXT'] = \n",
    "df_train['TXT'] = pad_sequences(df_train.loc[:,'TXT'], len_max_seq).tolist()\n",
    "df_val['TXT'] = pad_sequences(df_val.loc[:,'TXT'], len_max_seq).tolist()\n",
    "df_test['TXT'] = pad_sequences(df_test.loc[:,'TXT'], len_max_seq).tolist()\n",
    "\n",
    "\n",
    "\"\"\"## Export\"\"\"\n",
    "#df_train.to_csv(os.path.join(data_dir, \"train.csv\"),index = False)\n",
    "#df_val.to_csv(os.path.join(data_dir, \"val.csv\"),index = False)\n",
    "#df_test.to_csv(os.path.join(data_dir, \"test.csv\"),index = False)\n",
    "\n"
   ]
  },
  {
   "cell_type": "code",
   "execution_count": 9,
   "metadata": {},
   "outputs": [
    {
     "data": {
      "text/html": [
       "<div>\n",
       "<style scoped>\n",
       "    .dataframe tbody tr th:only-of-type {\n",
       "        vertical-align: middle;\n",
       "    }\n",
       "\n",
       "    .dataframe tbody tr th {\n",
       "        vertical-align: top;\n",
       "    }\n",
       "\n",
       "    .dataframe thead th {\n",
       "        text-align: right;\n",
       "    }\n",
       "</style>\n",
       "<table border=\"1\" class=\"dataframe\">\n",
       "  <thead>\n",
       "    <tr style=\"text-align: right;\">\n",
       "      <th></th>\n",
       "      <th>MATRICULEINT</th>\n",
       "      <th>TXT</th>\n",
       "      <th>GENRE_1.0</th>\n",
       "      <th>GENRE_2.0</th>\n",
       "    </tr>\n",
       "  </thead>\n",
       "  <tbody>\n",
       "    <tr>\n",
       "      <th>2697</th>\n",
       "      <td>001-KT-1855708</td>\n",
       "      <td>[0, 0, 0, 0, 0, 0, 0, 0, 0, 0, 0, 0, 0, 0, 0, ...</td>\n",
       "      <td>0</td>\n",
       "      <td>1</td>\n",
       "    </tr>\n",
       "    <tr>\n",
       "      <th>1442</th>\n",
       "      <td>001-RD-1829703</td>\n",
       "      <td>[0, 0, 0, 0, 0, 0, 0, 0, 0, 0, 0, 0, 0, 0, 0, ...</td>\n",
       "      <td>1</td>\n",
       "      <td>0</td>\n",
       "    </tr>\n",
       "    <tr>\n",
       "      <th>5714</th>\n",
       "      <td>001-QO-1826762</td>\n",
       "      <td>[0, 0, 0, 0, 0, 0, 0, 0, 0, 0, 0, 0, 0, 0, 0, ...</td>\n",
       "      <td>0</td>\n",
       "      <td>1</td>\n",
       "    </tr>\n",
       "    <tr>\n",
       "      <th>9197</th>\n",
       "      <td>001-VAL-1814546</td>\n",
       "      <td>[0, 0, 0, 0, 0, 0, 0, 0, 0, 0, 0, 0, 0, 0, 0, ...</td>\n",
       "      <td>1</td>\n",
       "      <td>0</td>\n",
       "    </tr>\n",
       "    <tr>\n",
       "      <th>5347</th>\n",
       "      <td>001-SNS-0006519</td>\n",
       "      <td>[0, 0, 0, 0, 0, 0, 0, 0, 0, 0, 0, 0, 0, 0, 0, ...</td>\n",
       "      <td>1</td>\n",
       "      <td>0</td>\n",
       "    </tr>\n",
       "  </tbody>\n",
       "</table>\n",
       "</div>"
      ],
      "text/plain": [
       "         MATRICULEINT                                                TXT  \\\n",
       "2697   001-KT-1855708  [0, 0, 0, 0, 0, 0, 0, 0, 0, 0, 0, 0, 0, 0, 0, ...   \n",
       "1442   001-RD-1829703  [0, 0, 0, 0, 0, 0, 0, 0, 0, 0, 0, 0, 0, 0, 0, ...   \n",
       "5714   001-QO-1826762  [0, 0, 0, 0, 0, 0, 0, 0, 0, 0, 0, 0, 0, 0, 0, ...   \n",
       "9197  001-VAL-1814546  [0, 0, 0, 0, 0, 0, 0, 0, 0, 0, 0, 0, 0, 0, 0, ...   \n",
       "5347  001-SNS-0006519  [0, 0, 0, 0, 0, 0, 0, 0, 0, 0, 0, 0, 0, 0, 0, ...   \n",
       "\n",
       "      GENRE_1.0  GENRE_2.0  \n",
       "2697          0          1  \n",
       "1442          1          0  \n",
       "5714          0          1  \n",
       "9197          1          0  \n",
       "5347          1          0  "
      ]
     },
     "execution_count": 9,
     "metadata": {},
     "output_type": "execute_result"
    }
   ],
   "source": [
    "df_val.head()"
   ]
  },
  {
   "cell_type": "code",
   "execution_count": null,
   "metadata": {},
   "outputs": [],
   "source": []
  }
 ],
 "metadata": {
  "kernelspec": {
   "display_name": "Python 3",
   "language": "python",
   "name": "python3"
  },
  "language_info": {
   "codemirror_mode": {
    "name": "ipython",
    "version": 3
   },
   "file_extension": ".py",
   "mimetype": "text/x-python",
   "name": "python",
   "nbconvert_exporter": "python",
   "pygments_lexer": "ipython3",
   "version": "3.6.8"
  }
 },
 "nbformat": 4,
 "nbformat_minor": 2
}
